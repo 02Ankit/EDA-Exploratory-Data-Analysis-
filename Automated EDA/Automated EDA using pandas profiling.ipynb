{
 "cells": [
  {
   "cell_type": "markdown",
   "id": "fadfebec-db45-4009-b074-eca80fbbd1bc",
   "metadata": {},
   "source": [
    "## Final Aim EDA ka ye hai ki Data ko analys or understand data ke liye karte hai \n",
    "## Data ko samajhna kafi important hota hai \n",
    "## EDA me automated ka use karte hai kuch libraries ke madat se \n",
    "1. ydata-profiling or  pandas-profiling, pydantic-settings\n",
    "2. AutoViz\n",
    "3. SweetViz"
   ]
  },
  {
   "cell_type": "code",
   "execution_count": 16,
   "id": "49388828-3c79-4e24-8f5b-1e1fccd9bef0",
   "metadata": {},
   "outputs": [],
   "source": [
    "# !pip install pandas-profiling <-------insatll this packags\n",
    " # pip install ydata-profiling"
   ]
  },
  {
   "cell_type": "code",
   "execution_count": 17,
   "id": "d3028d14-9457-4a5f-af96-653f50d534b5",
   "metadata": {},
   "outputs": [],
   "source": [
    " # !pip install pydantic-settings\n"
   ]
  },
  {
   "cell_type": "code",
   "execution_count": 13,
   "id": "c2666fda-8bfd-45cc-b77f-344862aa9c05",
   "metadata": {},
   "outputs": [
    {
     "data": {
      "text/html": [
       "<div>\n",
       "<style scoped>\n",
       "    .dataframe tbody tr th:only-of-type {\n",
       "        vertical-align: middle;\n",
       "    }\n",
       "\n",
       "    .dataframe tbody tr th {\n",
       "        vertical-align: top;\n",
       "    }\n",
       "\n",
       "    .dataframe thead th {\n",
       "        text-align: right;\n",
       "    }\n",
       "</style>\n",
       "<table border=\"1\" class=\"dataframe\">\n",
       "  <thead>\n",
       "    <tr style=\"text-align: right;\">\n",
       "      <th></th>\n",
       "      <th>total_bill</th>\n",
       "      <th>tip</th>\n",
       "      <th>sex</th>\n",
       "      <th>smoker</th>\n",
       "      <th>day</th>\n",
       "      <th>time</th>\n",
       "      <th>size</th>\n",
       "    </tr>\n",
       "  </thead>\n",
       "  <tbody>\n",
       "    <tr>\n",
       "      <th>0</th>\n",
       "      <td>16.99</td>\n",
       "      <td>1.01</td>\n",
       "      <td>Female</td>\n",
       "      <td>No</td>\n",
       "      <td>Sun</td>\n",
       "      <td>Dinner</td>\n",
       "      <td>2</td>\n",
       "    </tr>\n",
       "    <tr>\n",
       "      <th>1</th>\n",
       "      <td>10.34</td>\n",
       "      <td>1.66</td>\n",
       "      <td>Male</td>\n",
       "      <td>No</td>\n",
       "      <td>Sun</td>\n",
       "      <td>Dinner</td>\n",
       "      <td>3</td>\n",
       "    </tr>\n",
       "    <tr>\n",
       "      <th>2</th>\n",
       "      <td>21.01</td>\n",
       "      <td>3.50</td>\n",
       "      <td>Male</td>\n",
       "      <td>No</td>\n",
       "      <td>Sun</td>\n",
       "      <td>Dinner</td>\n",
       "      <td>3</td>\n",
       "    </tr>\n",
       "    <tr>\n",
       "      <th>3</th>\n",
       "      <td>23.68</td>\n",
       "      <td>3.31</td>\n",
       "      <td>Male</td>\n",
       "      <td>No</td>\n",
       "      <td>Sun</td>\n",
       "      <td>Dinner</td>\n",
       "      <td>2</td>\n",
       "    </tr>\n",
       "    <tr>\n",
       "      <th>4</th>\n",
       "      <td>24.59</td>\n",
       "      <td>3.61</td>\n",
       "      <td>Female</td>\n",
       "      <td>No</td>\n",
       "      <td>Sun</td>\n",
       "      <td>Dinner</td>\n",
       "      <td>4</td>\n",
       "    </tr>\n",
       "  </tbody>\n",
       "</table>\n",
       "</div>"
      ],
      "text/plain": [
       "   total_bill   tip     sex smoker  day    time  size\n",
       "0       16.99  1.01  Female     No  Sun  Dinner     2\n",
       "1       10.34  1.66    Male     No  Sun  Dinner     3\n",
       "2       21.01  3.50    Male     No  Sun  Dinner     3\n",
       "3       23.68  3.31    Male     No  Sun  Dinner     2\n",
       "4       24.59  3.61  Female     No  Sun  Dinner     4"
      ]
     },
     "execution_count": 13,
     "metadata": {},
     "output_type": "execute_result"
    }
   ],
   "source": [
    "import seaborn as sns\n",
    "df = sns.load_dataset('tips')\n",
    "df.head()"
   ]
  },
  {
   "cell_type": "code",
   "execution_count": 21,
   "id": "9fc3ed93-e47d-40f0-a66d-afab0f5b5ce0",
   "metadata": {},
   "outputs": [
    {
     "name": "stderr",
     "output_type": "stream",
     "text": [
      "Summarize dataset:  64%|███████████████████████████████████████████████▌                          | 9/14 [00:01<00:00,  5.31it/s, Calculate auto correlation]E:\\krish_naik\\DataSience_project\\.venv\\lib\\site-packages\\ydata_profiling\\model\\correlations.py:66: UserWarning: There was an attempt to calculate the auto correlation, but this failed.\n",
      "To hide this warning, disable the calculation\n",
      "(using `df.profile_report(correlations={\"auto\": {\"calculate\": False}})`\n",
      "If this is problematic for your use case, please report this as an issue:\n",
      "https://github.com/ydataai/ydata-profiling/issues\n",
      "(include the error message: 'could not convert string to float: 'Sun'')\n",
      "  warnings.warn(\n",
      "Summarize dataset: 100%|██████████████████████████████████████████████████████████████████████████████████████████| 25/25 [00:09<00:00,  2.66it/s, Completed]\n",
      "Generate report structure: 100%|███████████████████████████████████████████████████████████████████████████████████████████████| 1/1 [00:08<00:00,  8.40s/it]\n",
      "Render HTML: 100%|█████████████████████████████████████████████████████████████████████████████████████████████████████████████| 1/1 [00:02<00:00,  2.09s/it]\n",
      "Export report to file: 100%|██████████████████████████████████████████████████████████████████████████████████████████████████| 1/1 [00:00<00:00, 142.89it/s]\n"
     ]
    }
   ],
   "source": [
    "# iska use jyada big dataset me use nahi karte.\n",
    "from ydata_profiling import ProfileReport\n",
    "profile = ProfileReport(df,explorative = True, dark_mode=True)\n",
    "profile.to_file('output.html')\n",
    "# ye html se hum koi bhi stack holder ko report share kar sakte hai \n",
    "# or at the end of the day decision aking ka optin rakh rahe hai iske through"
   ]
  },
  {
   "cell_type": "code",
   "execution_count": null,
   "id": "e9d0faf4-d9fd-49c1-911f-3032dfeb1be0",
   "metadata": {},
   "outputs": [],
   "source": []
  }
 ],
 "metadata": {
  "kernelspec": {
   "display_name": "Python 3 (ipykernel)",
   "language": "python",
   "name": "python3"
  },
  "language_info": {
   "codemirror_mode": {
    "name": "ipython",
    "version": 3
   },
   "file_extension": ".py",
   "mimetype": "text/x-python",
   "name": "python",
   "nbconvert_exporter": "python",
   "pygments_lexer": "ipython3",
   "version": "3.10.6"
  }
 },
 "nbformat": 4,
 "nbformat_minor": 5
}
