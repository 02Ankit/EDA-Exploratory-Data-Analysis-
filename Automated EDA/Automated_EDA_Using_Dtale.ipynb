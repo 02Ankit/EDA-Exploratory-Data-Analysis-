{
 "cells": [
  {
   "cell_type": "code",
   "execution_count": 18,
   "id": "22c0aa12-23cd-4f25-a3de-bdbd36686fa9",
   "metadata": {},
   "outputs": [
    {
     "name": "stdout",
     "output_type": "stream",
     "text": [
      "Requirement already satisfied: dtale in e:\\krish_naik\\datasience_project\\.venv\\lib\\site-packages (3.11.0)\n",
      "Requirement already satisfied: dash-colorscales in e:\\krish_naik\\datasience_project\\.venv\\lib\\site-packages (from dtale) (0.0.4)\n",
      "Requirement already satisfied: dash-daq in e:\\krish_naik\\datasience_project\\.venv\\lib\\site-packages (from dtale) (0.5.0)\n",
      "Requirement already satisfied: Flask-Compress in e:\\krish_naik\\datasience_project\\.venv\\lib\\site-packages (from dtale) (1.14)\n",
      "Requirement already satisfied: future>=0.14.0 in e:\\krish_naik\\datasience_project\\.venv\\lib\\site-packages (from dtale) (1.0.0)\n",
      "Requirement already satisfied: kaleido in e:\\krish_naik\\datasience_project\\.venv\\lib\\site-packages (from dtale) (0.2.1)\n",
      "Requirement already satisfied: missingno in e:\\krish_naik\\datasience_project\\.venv\\lib\\site-packages (from dtale) (0.5.2)\n",
      "Requirement already satisfied: pandas in e:\\krish_naik\\datasience_project\\.venv\\lib\\site-packages (from dtale) (1.5.3)\n",
      "Requirement already satisfied: squarify in e:\\krish_naik\\datasience_project\\.venv\\lib\\site-packages (from dtale) (0.4.3)\n",
      "Requirement already satisfied: strsimpy in e:\\krish_naik\\datasience_project\\.venv\\lib\\site-packages (from dtale) (0.2.1)\n",
      "Requirement already satisfied: six in e:\\krish_naik\\datasience_project\\.venv\\lib\\site-packages (from dtale) (1.16.0)\n",
      "Requirement already satisfied: xlrd in e:\\krish_naik\\datasience_project\\.venv\\lib\\site-packages (from dtale) (2.0.1)\n",
      "Requirement already satisfied: beautifulsoup4 in e:\\krish_naik\\datasience_project\\.venv\\lib\\site-packages (from dtale) (4.12.3)\n",
      "Requirement already satisfied: certifi in e:\\krish_naik\\datasience_project\\.venv\\lib\\site-packages (from dtale) (2024.2.2)\n",
      "Requirement already satisfied: flask-ngrok in e:\\krish_naik\\datasience_project\\.venv\\lib\\site-packages (from dtale) (0.0.25)\n",
      "Requirement already satisfied: lz4 in e:\\krish_naik\\datasience_project\\.venv\\lib\\site-packages (from dtale) (4.3.3)\n",
      "Requirement already satisfied: cycler in e:\\krish_naik\\datasience_project\\.venv\\lib\\site-packages (from dtale) (0.12.1)\n",
      "Requirement already satisfied: dash-bootstrap-components<=1.3.1 in e:\\krish_naik\\datasience_project\\.venv\\lib\\site-packages (from dtale) (1.3.1)\n",
      "Requirement already satisfied: dash in e:\\krish_naik\\datasience_project\\.venv\\lib\\site-packages (from dtale) (2.16.1)\n",
      "Requirement already satisfied: seaborn in e:\\krish_naik\\datasience_project\\.venv\\lib\\site-packages (from dtale) (0.12.2)\n",
      "Requirement already satisfied: statsmodels in e:\\krish_naik\\datasience_project\\.venv\\lib\\site-packages (from dtale) (0.14.1)\n",
      "Requirement already satisfied: werkzeug in e:\\krish_naik\\datasience_project\\.venv\\lib\\site-packages (from dtale) (3.0.2)\n",
      "Requirement already satisfied: networkx in e:\\krish_naik\\datasience_project\\.venv\\lib\\site-packages (from dtale) (3.2.1)\n",
      "Requirement already satisfied: scikit-learn in e:\\krish_naik\\datasience_project\\.venv\\lib\\site-packages (from dtale) (1.4.1.post1)\n",
      "Requirement already satisfied: numpy in e:\\krish_naik\\datasience_project\\.venv\\lib\\site-packages (from dtale) (1.24.4)\n",
      "Requirement already satisfied: openpyxl!=3.2.0b1 in e:\\krish_naik\\datasience_project\\.venv\\lib\\site-packages (from dtale) (3.1.2)\n",
      "Requirement already satisfied: xarray in e:\\krish_naik\\datasience_project\\.venv\\lib\\site-packages (from dtale) (2024.3.0)\n",
      "Requirement already satisfied: et-xmlfile in e:\\krish_naik\\datasience_project\\.venv\\lib\\site-packages (from dtale) (1.1.0)\n",
      "Requirement already satisfied: plotly in e:\\krish_naik\\datasience_project\\.venv\\lib\\site-packages (from dtale) (5.20.0)\n",
      "Requirement already satisfied: Flask<2.3 in e:\\krish_naik\\datasience_project\\.venv\\lib\\site-packages (from dtale) (2.2.5)\n",
      "Requirement already satisfied: itsdangerous in e:\\krish_naik\\datasience_project\\.venv\\lib\\site-packages (from dtale) (2.1.2)\n",
      "Requirement already satisfied: requests in e:\\krish_naik\\datasience_project\\.venv\\lib\\site-packages (from dtale) (2.31.0)\n",
      "Requirement already satisfied: contourpy in e:\\krish_naik\\datasience_project\\.venv\\lib\\site-packages (from dtale) (1.2.0)\n",
      "Requirement already satisfied: matplotlib in e:\\krish_naik\\datasience_project\\.venv\\lib\\site-packages (from dtale) (3.7.4)\n",
      "Requirement already satisfied: scipy!=1.12.0rc1 in e:\\krish_naik\\datasience_project\\.venv\\lib\\site-packages (from dtale) (1.11.4)\n",
      "Requirement already satisfied: dash-html-components==2.0.0 in e:\\krish_naik\\datasience_project\\.venv\\lib\\site-packages (from dash->dtale) (2.0.0)\n",
      "Requirement already satisfied: dash-core-components==2.0.0 in e:\\krish_naik\\datasience_project\\.venv\\lib\\site-packages (from dash->dtale) (2.0.0)\n",
      "Requirement already satisfied: dash-table==5.0.0 in e:\\krish_naik\\datasience_project\\.venv\\lib\\site-packages (from dash->dtale) (5.0.0)\n",
      "Requirement already satisfied: importlib-metadata in e:\\krish_naik\\datasience_project\\.venv\\lib\\site-packages (from dash->dtale) (7.1.0)\n",
      "Requirement already satisfied: typing-extensions>=4.1.1 in e:\\krish_naik\\datasience_project\\.venv\\lib\\site-packages (from dash->dtale) (4.10.0)\n",
      "Requirement already satisfied: retrying in e:\\krish_naik\\datasience_project\\.venv\\lib\\site-packages (from dash->dtale) (1.3.4)\n",
      "Requirement already satisfied: nest-asyncio in e:\\krish_naik\\datasience_project\\.venv\\lib\\site-packages (from dash->dtale) (1.6.0)\n",
      "Requirement already satisfied: setuptools in e:\\krish_naik\\datasience_project\\.venv\\lib\\site-packages (from dash->dtale) (69.1.1)\n",
      "Requirement already satisfied: Jinja2>=3.0 in e:\\krish_naik\\datasience_project\\.venv\\lib\\site-packages (from Flask<2.3->dtale) (3.1.3)\n",
      "Requirement already satisfied: click>=8.0 in e:\\krish_naik\\datasience_project\\.venv\\lib\\site-packages (from Flask<2.3->dtale) (8.1.7)\n",
      "Requirement already satisfied: tenacity>=6.2.0 in e:\\krish_naik\\datasience_project\\.venv\\lib\\site-packages (from plotly->dtale) (8.2.3)\n",
      "Requirement already satisfied: packaging in e:\\krish_naik\\datasience_project\\.venv\\lib\\site-packages (from plotly->dtale) (24.0)\n",
      "Requirement already satisfied: MarkupSafe>=2.1.1 in e:\\krish_naik\\datasience_project\\.venv\\lib\\site-packages (from werkzeug->dtale) (2.1.5)\n",
      "Requirement already satisfied: soupsieve>1.2 in e:\\krish_naik\\datasience_project\\.venv\\lib\\site-packages (from beautifulsoup4->dtale) (2.5)\n",
      "Requirement already satisfied: brotli in e:\\krish_naik\\datasience_project\\.venv\\lib\\site-packages (from Flask-Compress->dtale) (1.1.0)\n",
      "Requirement already satisfied: fonttools>=4.22.0 in e:\\krish_naik\\datasience_project\\.venv\\lib\\site-packages (from matplotlib->dtale) (4.50.0)\n",
      "Requirement already satisfied: kiwisolver>=1.0.1 in e:\\krish_naik\\datasience_project\\.venv\\lib\\site-packages (from matplotlib->dtale) (1.4.5)\n",
      "Requirement already satisfied: pillow>=6.2.0 in e:\\krish_naik\\datasience_project\\.venv\\lib\\site-packages (from matplotlib->dtale) (10.2.0)\n",
      "Requirement already satisfied: pyparsing>=2.3.1 in e:\\krish_naik\\datasience_project\\.venv\\lib\\site-packages (from matplotlib->dtale) (3.1.2)\n",
      "Requirement already satisfied: python-dateutil>=2.7 in e:\\krish_naik\\datasience_project\\.venv\\lib\\site-packages (from matplotlib->dtale) (2.9.0.post0)\n",
      "Requirement already satisfied: pytz>=2020.1 in e:\\krish_naik\\datasience_project\\.venv\\lib\\site-packages (from pandas->dtale) (2024.1)\n",
      "Requirement already satisfied: charset-normalizer<4,>=2 in e:\\krish_naik\\datasience_project\\.venv\\lib\\site-packages (from requests->dtale) (3.3.2)\n",
      "Requirement already satisfied: idna<4,>=2.5 in e:\\krish_naik\\datasience_project\\.venv\\lib\\site-packages (from requests->dtale) (3.6)\n",
      "Requirement already satisfied: urllib3<3,>=1.21.1 in e:\\krish_naik\\datasience_project\\.venv\\lib\\site-packages (from requests->dtale) (2.2.1)\n",
      "Requirement already satisfied: joblib>=1.2.0 in e:\\krish_naik\\datasience_project\\.venv\\lib\\site-packages (from scikit-learn->dtale) (1.3.2)\n",
      "Requirement already satisfied: threadpoolctl>=2.0.0 in e:\\krish_naik\\datasience_project\\.venv\\lib\\site-packages (from scikit-learn->dtale) (3.4.0)\n",
      "Requirement already satisfied: patsy>=0.5.4 in e:\\krish_naik\\datasience_project\\.venv\\lib\\site-packages (from statsmodels->dtale) (0.5.6)\n",
      "Requirement already satisfied: colorama in e:\\krish_naik\\datasience_project\\.venv\\lib\\site-packages (from click>=8.0->Flask<2.3->dtale) (0.4.6)\n",
      "Requirement already satisfied: zipp>=0.5 in e:\\krish_naik\\datasience_project\\.venv\\lib\\site-packages (from importlib-metadata->dash->dtale) (3.18.1)\n"
     ]
    }
   ],
   "source": [
    "!pip install --upgrade dtale"
   ]
  },
  {
   "cell_type": "code",
   "execution_count": 24,
   "id": "51654bb4-0e95-4da8-968e-ed97966bd91c",
   "metadata": {},
   "outputs": [],
   "source": [
    "import pandas as pd\n",
    "import dtale\n",
    "import dtale.app as dtale_app\n",
    "dtale_app.USE_COLAB = True"
   ]
  },
  {
   "cell_type": "code",
   "execution_count": 25,
   "id": "e5895933-b590-4bc1-8814-98d6631c32aa",
   "metadata": {},
   "outputs": [],
   "source": [
    "import seaborn as sns"
   ]
  },
  {
   "cell_type": "code",
   "execution_count": 26,
   "id": "292a43d8-1f23-432b-8abb-c7b2a5a4c53a",
   "metadata": {},
   "outputs": [],
   "source": [
    "df = sns.load_dataset('titanic')"
   ]
  },
  {
   "cell_type": "code",
   "execution_count": 27,
   "id": "236462e9-d72d-454c-b620-ec6d57f375bd",
   "metadata": {},
   "outputs": [
    {
     "data": {
      "text/html": [
       "<div>\n",
       "<style scoped>\n",
       "    .dataframe tbody tr th:only-of-type {\n",
       "        vertical-align: middle;\n",
       "    }\n",
       "\n",
       "    .dataframe tbody tr th {\n",
       "        vertical-align: top;\n",
       "    }\n",
       "\n",
       "    .dataframe thead th {\n",
       "        text-align: right;\n",
       "    }\n",
       "</style>\n",
       "<table border=\"1\" class=\"dataframe\">\n",
       "  <thead>\n",
       "    <tr style=\"text-align: right;\">\n",
       "      <th></th>\n",
       "      <th>survived</th>\n",
       "      <th>pclass</th>\n",
       "      <th>sex</th>\n",
       "      <th>age</th>\n",
       "      <th>sibsp</th>\n",
       "      <th>parch</th>\n",
       "      <th>fare</th>\n",
       "      <th>embarked</th>\n",
       "      <th>class</th>\n",
       "      <th>who</th>\n",
       "      <th>adult_male</th>\n",
       "      <th>deck</th>\n",
       "      <th>embark_town</th>\n",
       "      <th>alive</th>\n",
       "      <th>alone</th>\n",
       "    </tr>\n",
       "  </thead>\n",
       "  <tbody>\n",
       "    <tr>\n",
       "      <th>0</th>\n",
       "      <td>0</td>\n",
       "      <td>3</td>\n",
       "      <td>male</td>\n",
       "      <td>22.0</td>\n",
       "      <td>1</td>\n",
       "      <td>0</td>\n",
       "      <td>7.2500</td>\n",
       "      <td>S</td>\n",
       "      <td>Third</td>\n",
       "      <td>man</td>\n",
       "      <td>True</td>\n",
       "      <td>NaN</td>\n",
       "      <td>Southampton</td>\n",
       "      <td>no</td>\n",
       "      <td>False</td>\n",
       "    </tr>\n",
       "    <tr>\n",
       "      <th>1</th>\n",
       "      <td>1</td>\n",
       "      <td>1</td>\n",
       "      <td>female</td>\n",
       "      <td>38.0</td>\n",
       "      <td>1</td>\n",
       "      <td>0</td>\n",
       "      <td>71.2833</td>\n",
       "      <td>C</td>\n",
       "      <td>First</td>\n",
       "      <td>woman</td>\n",
       "      <td>False</td>\n",
       "      <td>C</td>\n",
       "      <td>Cherbourg</td>\n",
       "      <td>yes</td>\n",
       "      <td>False</td>\n",
       "    </tr>\n",
       "    <tr>\n",
       "      <th>2</th>\n",
       "      <td>1</td>\n",
       "      <td>3</td>\n",
       "      <td>female</td>\n",
       "      <td>26.0</td>\n",
       "      <td>0</td>\n",
       "      <td>0</td>\n",
       "      <td>7.9250</td>\n",
       "      <td>S</td>\n",
       "      <td>Third</td>\n",
       "      <td>woman</td>\n",
       "      <td>False</td>\n",
       "      <td>NaN</td>\n",
       "      <td>Southampton</td>\n",
       "      <td>yes</td>\n",
       "      <td>True</td>\n",
       "    </tr>\n",
       "    <tr>\n",
       "      <th>3</th>\n",
       "      <td>1</td>\n",
       "      <td>1</td>\n",
       "      <td>female</td>\n",
       "      <td>35.0</td>\n",
       "      <td>1</td>\n",
       "      <td>0</td>\n",
       "      <td>53.1000</td>\n",
       "      <td>S</td>\n",
       "      <td>First</td>\n",
       "      <td>woman</td>\n",
       "      <td>False</td>\n",
       "      <td>C</td>\n",
       "      <td>Southampton</td>\n",
       "      <td>yes</td>\n",
       "      <td>False</td>\n",
       "    </tr>\n",
       "    <tr>\n",
       "      <th>4</th>\n",
       "      <td>0</td>\n",
       "      <td>3</td>\n",
       "      <td>male</td>\n",
       "      <td>35.0</td>\n",
       "      <td>0</td>\n",
       "      <td>0</td>\n",
       "      <td>8.0500</td>\n",
       "      <td>S</td>\n",
       "      <td>Third</td>\n",
       "      <td>man</td>\n",
       "      <td>True</td>\n",
       "      <td>NaN</td>\n",
       "      <td>Southampton</td>\n",
       "      <td>no</td>\n",
       "      <td>True</td>\n",
       "    </tr>\n",
       "  </tbody>\n",
       "</table>\n",
       "</div>"
      ],
      "text/plain": [
       "   survived  pclass     sex   age  sibsp  parch     fare embarked  class  \\\n",
       "0         0       3    male  22.0      1      0   7.2500        S  Third   \n",
       "1         1       1  female  38.0      1      0  71.2833        C  First   \n",
       "2         1       3  female  26.0      0      0   7.9250        S  Third   \n",
       "3         1       1  female  35.0      1      0  53.1000        S  First   \n",
       "4         0       3    male  35.0      0      0   8.0500        S  Third   \n",
       "\n",
       "     who  adult_male deck  embark_town alive  alone  \n",
       "0    man        True  NaN  Southampton    no  False  \n",
       "1  woman       False    C    Cherbourg   yes  False  \n",
       "2  woman       False  NaN  Southampton   yes   True  \n",
       "3  woman       False    C  Southampton   yes  False  \n",
       "4    man        True  NaN  Southampton    no   True  "
      ]
     },
     "execution_count": 27,
     "metadata": {},
     "output_type": "execute_result"
    }
   ],
   "source": [
    "df.head()"
   ]
  },
  {
   "cell_type": "code",
   "execution_count": 28,
   "id": "f3772de6-846d-4695-80d0-1b8bf7073022",
   "metadata": {},
   "outputs": [
    {
     "name": "stderr",
     "output_type": "stream",
     "text": [
      "E:\\krish_naik\\DataSience_project\\.venv\\lib\\site-packages\\dtale\\views.py:798: FutureWarning:\n",
      "\n",
      "['embarked', 'class', 'deck', 'embark_town'] did not aggregate successfully. If any error is raised this will raise in a future version of pandas. Drop these columns/ops to avoid this warning.\n",
      "\n"
     ]
    },
    {
     "data": {
      "text/html": [
       "\n",
       "        <iframe\n",
       "            width=\"100%\"\n",
       "            height=\"475\"\n",
       "            src=\"http://0.0.0.0:40000/dtale/iframe/5\"\n",
       "            frameborder=\"0\"\n",
       "            allowfullscreen\n",
       "            \n",
       "        ></iframe>\n",
       "        "
      ],
      "text/plain": [
       "<IPython.lib.display.IFrame at 0x2ca5a5f92a0>"
      ]
     },
     "metadata": {},
     "output_type": "display_data"
    },
    {
     "data": {
      "text/plain": []
     },
     "execution_count": 28,
     "metadata": {},
     "output_type": "execute_result"
    },
    {
     "name": "stderr",
     "output_type": "stream",
     "text": [
      "2024-04-03 03:41:58,081 - INFO     - Executing shutdown due to inactivity...\n",
      "2024-04-03 03:42:21,114 - INFO     - Executing shutdown due to inactivity...\n",
      "2024-04-03 03:46:19,905 - INFO     - Executing shutdown due to inactivity...\n",
      "2024-04-03 03:46:54,961 - INFO     - Executing shutdown due to inactivity...\n",
      "2024-04-03 03:47:14,745 - INFO     - Executing shutdown due to inactivity...\n"
     ]
    }
   ],
   "source": [
    "dtale.show(df)"
   ]
  },
  {
   "cell_type": "code",
   "execution_count": null,
   "id": "e0719b73-9330-448b-a4db-f50cc20c6aa5",
   "metadata": {},
   "outputs": [],
   "source": []
  }
 ],
 "metadata": {
  "kernelspec": {
   "display_name": "Python 3 (ipykernel)",
   "language": "python",
   "name": "python3"
  },
  "language_info": {
   "codemirror_mode": {
    "name": "ipython",
    "version": 3
   },
   "file_extension": ".py",
   "mimetype": "text/x-python",
   "name": "python",
   "nbconvert_exporter": "python",
   "pygments_lexer": "ipython3",
   "version": "3.10.6"
  }
 },
 "nbformat": 4,
 "nbformat_minor": 5
}
